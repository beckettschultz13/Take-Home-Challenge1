{
 "cells": [
  {
   "cell_type": "markdown",
   "id": "e106703b-a750-429e-8285-e91cd5cc9de0",
   "metadata": {},
   "source": [
    "# **Ultimate Data Science Challenge**"
   ]
  },
  {
   "cell_type": "markdown",
   "id": "60d5405a-acc0-4c68-b21f-0305d5c9f28d",
   "metadata": {},
   "source": [
    "## *Part 1- Exploratory Data Analysis*"
   ]
  },
  {
   "cell_type": "code",
   "execution_count": 3,
   "id": "9adba409-7c0c-42ec-9e3d-6677b0af46f2",
   "metadata": {},
   "outputs": [
    {
     "name": "stdout",
     "output_type": "stream",
     "text": [
      "login_time 1970-01-01 20:13:18\n"
     ]
    }
   ],
   "source": [
    "# Import relevant library\n",
    "import json\n",
    "\n",
    "# Open and read the JSON file\n",
    "with open('logins.json', 'r') as file:\n",
    "    data = json.load(file)\n",
    "\n",
    "# Print the data\n",
    "for k,v in data.items():\n",
    "    print(k,v[0])\n",
    "\n",
    "# Extract time information\n",
    "times = data['login_time']"
   ]
  },
  {
   "cell_type": "code",
   "execution_count": 4,
   "id": "ab890106-9999-4a52-8801-f9ff7299ba40",
   "metadata": {},
   "outputs": [],
   "source": [
    "# Import pandas to convert data to datetimes\n",
    "import pandas as pd\n",
    "\n",
    "times = pd.to_datetime(times)"
   ]
  },
  {
   "cell_type": "code",
   "execution_count": 5,
   "id": "f894b38b-6022-41a4-8a26-cac8ec27cc35",
   "metadata": {},
   "outputs": [
    {
     "name": "stdout",
     "output_type": "stream",
     "text": [
      "<class 'pandas.core.frame.DataFrame'>\n",
      "RangeIndex: 93142 entries, 0 to 93141\n",
      "Data columns (total 1 columns):\n",
      " #   Column  Non-Null Count  Dtype         \n",
      "---  ------  --------------  -----         \n",
      " 0   time    93142 non-null  datetime64[ns]\n",
      "dtypes: datetime64[ns](1)\n",
      "memory usage: 727.8 KB\n"
     ]
    }
   ],
   "source": [
    "# Create a DataFrame for better grouping later\n",
    "df = pd.DataFrame({'time': times})\n",
    "df.info()"
   ]
  },
  {
   "cell_type": "code",
   "execution_count": 6,
   "id": "2ba82e57-9b84-47b5-bc61-17e62de0fc08",
   "metadata": {},
   "outputs": [
    {
     "data": {
      "text/html": [
       "<div>\n",
       "<style scoped>\n",
       "    .dataframe tbody tr th:only-of-type {\n",
       "        vertical-align: middle;\n",
       "    }\n",
       "\n",
       "    .dataframe tbody tr th {\n",
       "        vertical-align: top;\n",
       "    }\n",
       "\n",
       "    .dataframe thead th {\n",
       "        text-align: right;\n",
       "    }\n",
       "</style>\n",
       "<table border=\"1\" class=\"dataframe\">\n",
       "  <thead>\n",
       "    <tr style=\"text-align: right;\">\n",
       "      <th></th>\n",
       "      <th>time</th>\n",
       "      <th>interval</th>\n",
       "    </tr>\n",
       "  </thead>\n",
       "  <tbody>\n",
       "    <tr>\n",
       "      <th>0</th>\n",
       "      <td>1970-01-01 20:13:18</td>\n",
       "      <td>1970-01-01 20:00:00</td>\n",
       "    </tr>\n",
       "    <tr>\n",
       "      <th>1</th>\n",
       "      <td>1970-01-01 20:16:10</td>\n",
       "      <td>1970-01-01 20:15:00</td>\n",
       "    </tr>\n",
       "    <tr>\n",
       "      <th>2</th>\n",
       "      <td>1970-01-01 20:16:37</td>\n",
       "      <td>1970-01-01 20:15:00</td>\n",
       "    </tr>\n",
       "    <tr>\n",
       "      <th>3</th>\n",
       "      <td>1970-01-01 20:16:36</td>\n",
       "      <td>1970-01-01 20:15:00</td>\n",
       "    </tr>\n",
       "    <tr>\n",
       "      <th>4</th>\n",
       "      <td>1970-01-01 20:26:21</td>\n",
       "      <td>1970-01-01 20:15:00</td>\n",
       "    </tr>\n",
       "    <tr>\n",
       "      <th>...</th>\n",
       "      <td>...</td>\n",
       "      <td>...</td>\n",
       "    </tr>\n",
       "    <tr>\n",
       "      <th>93137</th>\n",
       "      <td>1970-04-13 18:50:19</td>\n",
       "      <td>1970-04-13 18:45:00</td>\n",
       "    </tr>\n",
       "    <tr>\n",
       "      <th>93138</th>\n",
       "      <td>1970-04-13 18:43:56</td>\n",
       "      <td>1970-04-13 18:30:00</td>\n",
       "    </tr>\n",
       "    <tr>\n",
       "      <th>93139</th>\n",
       "      <td>1970-04-13 18:54:02</td>\n",
       "      <td>1970-04-13 18:45:00</td>\n",
       "    </tr>\n",
       "    <tr>\n",
       "      <th>93140</th>\n",
       "      <td>1970-04-13 18:57:38</td>\n",
       "      <td>1970-04-13 18:45:00</td>\n",
       "    </tr>\n",
       "    <tr>\n",
       "      <th>93141</th>\n",
       "      <td>1970-04-13 18:54:23</td>\n",
       "      <td>1970-04-13 18:45:00</td>\n",
       "    </tr>\n",
       "  </tbody>\n",
       "</table>\n",
       "<p>93142 rows × 2 columns</p>\n",
       "</div>"
      ],
      "text/plain": [
       "                     time            interval\n",
       "0     1970-01-01 20:13:18 1970-01-01 20:00:00\n",
       "1     1970-01-01 20:16:10 1970-01-01 20:15:00\n",
       "2     1970-01-01 20:16:37 1970-01-01 20:15:00\n",
       "3     1970-01-01 20:16:36 1970-01-01 20:15:00\n",
       "4     1970-01-01 20:26:21 1970-01-01 20:15:00\n",
       "...                   ...                 ...\n",
       "93137 1970-04-13 18:50:19 1970-04-13 18:45:00\n",
       "93138 1970-04-13 18:43:56 1970-04-13 18:30:00\n",
       "93139 1970-04-13 18:54:02 1970-04-13 18:45:00\n",
       "93140 1970-04-13 18:57:38 1970-04-13 18:45:00\n",
       "93141 1970-04-13 18:54:23 1970-04-13 18:45:00\n",
       "\n",
       "[93142 rows x 2 columns]"
      ]
     },
     "execution_count": 6,
     "metadata": {},
     "output_type": "execute_result"
    }
   ],
   "source": [
    "# Create 15 minute intervals using dt.floor\n",
    "df['interval'] = df['time'].dt.floor('15min')\n",
    "df"
   ]
  },
  {
   "cell_type": "code",
   "execution_count": 7,
   "id": "cf90ef3c-5baa-45e9-b1e1-2d8ea8f03d18",
   "metadata": {},
   "outputs": [
    {
     "data": {
      "text/html": [
       "<div>\n",
       "<style scoped>\n",
       "    .dataframe tbody tr th:only-of-type {\n",
       "        vertical-align: middle;\n",
       "    }\n",
       "\n",
       "    .dataframe tbody tr th {\n",
       "        vertical-align: top;\n",
       "    }\n",
       "\n",
       "    .dataframe thead th {\n",
       "        text-align: right;\n",
       "    }\n",
       "</style>\n",
       "<table border=\"1\" class=\"dataframe\">\n",
       "  <thead>\n",
       "    <tr style=\"text-align: right;\">\n",
       "      <th></th>\n",
       "      <th>time</th>\n",
       "    </tr>\n",
       "    <tr>\n",
       "      <th>interval</th>\n",
       "      <th></th>\n",
       "    </tr>\n",
       "  </thead>\n",
       "  <tbody>\n",
       "    <tr>\n",
       "      <th>1970-01-01 20:00:00</th>\n",
       "      <td>2</td>\n",
       "    </tr>\n",
       "    <tr>\n",
       "      <th>1970-01-01 20:15:00</th>\n",
       "      <td>6</td>\n",
       "    </tr>\n",
       "    <tr>\n",
       "      <th>1970-01-01 20:30:00</th>\n",
       "      <td>9</td>\n",
       "    </tr>\n",
       "    <tr>\n",
       "      <th>1970-01-01 20:45:00</th>\n",
       "      <td>7</td>\n",
       "    </tr>\n",
       "    <tr>\n",
       "      <th>1970-01-01 21:00:00</th>\n",
       "      <td>1</td>\n",
       "    </tr>\n",
       "    <tr>\n",
       "      <th>...</th>\n",
       "      <td>...</td>\n",
       "    </tr>\n",
       "    <tr>\n",
       "      <th>1970-04-13 17:45:00</th>\n",
       "      <td>5</td>\n",
       "    </tr>\n",
       "    <tr>\n",
       "      <th>1970-04-13 18:00:00</th>\n",
       "      <td>5</td>\n",
       "    </tr>\n",
       "    <tr>\n",
       "      <th>1970-04-13 18:15:00</th>\n",
       "      <td>2</td>\n",
       "    </tr>\n",
       "    <tr>\n",
       "      <th>1970-04-13 18:30:00</th>\n",
       "      <td>7</td>\n",
       "    </tr>\n",
       "    <tr>\n",
       "      <th>1970-04-13 18:45:00</th>\n",
       "      <td>6</td>\n",
       "    </tr>\n",
       "  </tbody>\n",
       "</table>\n",
       "<p>9381 rows × 1 columns</p>\n",
       "</div>"
      ],
      "text/plain": [
       "                     time\n",
       "interval                 \n",
       "1970-01-01 20:00:00     2\n",
       "1970-01-01 20:15:00     6\n",
       "1970-01-01 20:30:00     9\n",
       "1970-01-01 20:45:00     7\n",
       "1970-01-01 21:00:00     1\n",
       "...                   ...\n",
       "1970-04-13 17:45:00     5\n",
       "1970-04-13 18:00:00     5\n",
       "1970-04-13 18:15:00     2\n",
       "1970-04-13 18:30:00     7\n",
       "1970-04-13 18:45:00     6\n",
       "\n",
       "[9381 rows x 1 columns]"
      ]
     },
     "execution_count": 7,
     "metadata": {},
     "output_type": "execute_result"
    }
   ],
   "source": [
    "# Use groupby to group times by interval column and gather count\n",
    "counts = df.groupby('interval').count()\n",
    "counts"
   ]
  },
  {
   "cell_type": "code",
   "execution_count": 8,
   "id": "ba1c4946-ece6-481c-9ce3-35d635778dff",
   "metadata": {},
   "outputs": [
    {
     "data": {
      "image/png": "[encoded data removed]",
      "text/plain": [
       "<Figure size 1500x600 with 1 Axes>"
      ]
     },
     "metadata": {},
     "output_type": "display_data"
    }
   ],
   "source": [
    "# Plotting results\n",
    "counts.plot(figsize=(15,6));"
   ]
  },
  {
   "cell_type": "markdown",
   "id": "8ebc6ae7-c0f9-4183-9e6a-5f3205345539",
   "metadata": {},
   "source": [
    "From here, data can be grouped by month, or even day, to look at trends over particular time frames. Time frames of interest would be those with spikes, like the maximum value seen around March."
   ]
  },
  {
   "cell_type": "markdown",
   "id": "b9e260d1-3ea4-44dc-9f4e-72b78bbcdb71",
   "metadata": {},
   "source": [
    "## *Part 2- Experiment and Metrics Design*"
   ]
  },
  {
   "cell_type": "markdown",
   "id": "a8e24c81-738c-4fcf-81d1-09cf31a885dc",
   "metadata": {},
   "source": [
    "1) What would you chose as the key measure of success of this experiment in encouraging driver partners to serve both cities, and why would you choose this metric?\n",
    "\n",
    "   If all tolls costs will be reimbursed, this means that the toll bridge will still collect the tolls. Therefore, a good measure of success would be in terms of dollars collected from the tolls. If there is a record high seen, this means that the experiment succeeded. If numbers stayed around the same or for some reason decreased, then the experiment failed."
   ]
  },
  {
   "cell_type": "markdown",
   "id": "8fdc850d-9982-4d69-9c6d-a7b8690a2ad7",
   "metadata": {},
   "source": [
    "2) Describe a practical experiment you would design to compare the effectiveness of the \n",
    "proposed change in relation to the key measure of success. Please provide details on:"
   ]
  },
  {
   "cell_type": "markdown",
   "id": "72eacc1f-94ab-4a29-ab8d-5112ac4e52e7",
   "metadata": {},
   "source": [
    "    a) how you will implement the experiment\n",
    "\n",
    "    The experiment will be implemented after both cities have been notified of the reimbursement plan. Following the notification, data from the next month will be treated as a sample and compared to data from the previous month (the month before the plan was implemented)."
   ]
  },
  {
   "cell_type": "markdown",
   "id": "cbbd8779-436e-44f4-a9c7-969b5a4ab87b",
   "metadata": {},
   "source": [
    "    b) what statistical test(s) you will conduct to verify the significance of the observation\n",
    "\n",
    "    I will perform a two-sided difference of means test. The null hypothesis will assume that there is no difference in the population means (in other words, the samples come from the same population) and a p-value will be set. Since population parameters are unknown, sample means and sample standard deviations will be used to calculate a t statistic. Once the t statistic is calculated, the probability of getting such a result will be determined from a t-distribution chart. If this probability is less than the p-value, we will reject the null hypothesis as there is evidence to support the alternative (the means of the populations are not equal). However, if this probability is greater than the p-value, we will fail to reject the null hypothesis."
   ]
  },
  {
   "cell_type": "markdown",
   "id": "0a202241-39da-487b-86bb-a7106b1e689a",
   "metadata": {},
   "source": [
    "    c) how you would interpret the results and provide recommendation to the city operations team along with any caveats.\n",
    "\n",
    "    As mentioned before, an increase in money collected from tolls would imply success, and no change or a decrease would imply failure. The degree of these changes would affect my recommendation and would be communicated clearly to the city operations team. For example, let's assumne a slight increase is observed. This would achieve our goal. However, if the increase is so slight to where the benefits from achieving our goal does not outweigh the cost of toll reimbursements, then my recommendation would be to not proceed with the experiment."
   ]
  },
  {
   "cell_type": "markdown",
   "id": "2f0707b0-c9d5-4d20-a61d-8fd0fce473c9",
   "metadata": {},
   "source": [
    "## *Part 3- Predictive Modeling*"
   ]
  },
  {
   "cell_type": "markdown",
   "id": "69be39d0-b98d-419c-bb4a-555551a072a4",
   "metadata": {},
   "source": [
    "### Question 1"
   ]
  },
  {
   "cell_type": "code",
   "execution_count": 18,
   "id": "cb953bda-a7c4-4ec4-bcfe-9c3ab2014f19",
   "metadata": {},
   "outputs": [
    {
     "name": "stdout",
     "output_type": "stream",
     "text": [
      "<class 'pandas.core.frame.DataFrame'>\n",
      "RangeIndex: 50000 entries, 0 to 49999\n",
      "Data columns (total 12 columns):\n",
      " #   Column                  Non-Null Count  Dtype  \n",
      "---  ------                  --------------  -----  \n",
      " 0   city                    50000 non-null  object \n",
      " 1   trips_in_first_30_days  50000 non-null  int64  \n",
      " 2   signup_date             50000 non-null  object \n",
      " 3   avg_rating_of_driver    41878 non-null  float64\n",
      " 4   avg_surge               50000 non-null  float64\n",
      " 5   last_trip_date          50000 non-null  object \n",
      " 6   phone                   49604 non-null  object \n",
      " 7   surge_pct               50000 non-null  float64\n",
      " 8   ultimate_black_user     50000 non-null  bool   \n",
      " 9   weekday_pct             50000 non-null  float64\n",
      " 10  avg_dist                50000 non-null  float64\n",
      " 11  avg_rating_by_driver    49799 non-null  float64\n",
      "dtypes: bool(1), float64(6), int64(1), object(4)\n",
      "memory usage: 4.2+ MB\n",
      "None\n",
      "\n",
      "\n"
     ]
    },
    {
     "data": {
      "text/html": [
       "<div>\n",
       "<style scoped>\n",
       "    .dataframe tbody tr th:only-of-type {\n",
       "        vertical-align: middle;\n",
       "    }\n",
       "\n",
       "    .dataframe tbody tr th {\n",
       "        vertical-align: top;\n",
       "    }\n",
       "\n",
       "    .dataframe thead th {\n",
       "        text-align: right;\n",
       "    }\n",
       "</style>\n",
       "<table border=\"1\" class=\"dataframe\">\n",
       "  <thead>\n",
       "    <tr style=\"text-align: right;\">\n",
       "      <th></th>\n",
       "      <th>city</th>\n",
       "      <th>trips_in_first_30_days</th>\n",
       "      <th>signup_date</th>\n",
       "      <th>avg_rating_of_driver</th>\n",
       "      <th>avg_surge</th>\n",
       "      <th>last_trip_date</th>\n",
       "      <th>phone</th>\n",
       "      <th>surge_pct</th>\n",
       "      <th>ultimate_black_user</th>\n",
       "      <th>weekday_pct</th>\n",
       "      <th>avg_dist</th>\n",
       "      <th>avg_rating_by_driver</th>\n",
       "    </tr>\n",
       "  </thead>\n",
       "  <tbody>\n",
       "    <tr>\n",
       "      <th>0</th>\n",
       "      <td>King's Landing</td>\n",
       "      <td>4</td>\n",
       "      <td>2014-01-25</td>\n",
       "      <td>4.7</td>\n",
       "      <td>1.10</td>\n",
       "      <td>2014-06-17</td>\n",
       "      <td>iPhone</td>\n",
       "      <td>15.4</td>\n",
       "      <td>True</td>\n",
       "      <td>46.2</td>\n",
       "      <td>3.67</td>\n",
       "      <td>5.0</td>\n",
       "    </tr>\n",
       "    <tr>\n",
       "      <th>1</th>\n",
       "      <td>Astapor</td>\n",
       "      <td>0</td>\n",
       "      <td>2014-01-29</td>\n",
       "      <td>5.0</td>\n",
       "      <td>1.00</td>\n",
       "      <td>2014-05-05</td>\n",
       "      <td>Android</td>\n",
       "      <td>0.0</td>\n",
       "      <td>False</td>\n",
       "      <td>50.0</td>\n",
       "      <td>8.26</td>\n",
       "      <td>5.0</td>\n",
       "    </tr>\n",
       "    <tr>\n",
       "      <th>2</th>\n",
       "      <td>Astapor</td>\n",
       "      <td>3</td>\n",
       "      <td>2014-01-06</td>\n",
       "      <td>4.3</td>\n",
       "      <td>1.00</td>\n",
       "      <td>2014-01-07</td>\n",
       "      <td>iPhone</td>\n",
       "      <td>0.0</td>\n",
       "      <td>False</td>\n",
       "      <td>100.0</td>\n",
       "      <td>0.77</td>\n",
       "      <td>5.0</td>\n",
       "    </tr>\n",
       "    <tr>\n",
       "      <th>3</th>\n",
       "      <td>King's Landing</td>\n",
       "      <td>9</td>\n",
       "      <td>2014-01-10</td>\n",
       "      <td>4.6</td>\n",
       "      <td>1.14</td>\n",
       "      <td>2014-06-29</td>\n",
       "      <td>iPhone</td>\n",
       "      <td>20.0</td>\n",
       "      <td>True</td>\n",
       "      <td>80.0</td>\n",
       "      <td>2.36</td>\n",
       "      <td>4.9</td>\n",
       "    </tr>\n",
       "    <tr>\n",
       "      <th>4</th>\n",
       "      <td>Winterfell</td>\n",
       "      <td>14</td>\n",
       "      <td>2014-01-27</td>\n",
       "      <td>4.4</td>\n",
       "      <td>1.19</td>\n",
       "      <td>2014-03-15</td>\n",
       "      <td>Android</td>\n",
       "      <td>11.8</td>\n",
       "      <td>False</td>\n",
       "      <td>82.4</td>\n",
       "      <td>3.13</td>\n",
       "      <td>4.9</td>\n",
       "    </tr>\n",
       "  </tbody>\n",
       "</table>\n",
       "</div>"
      ],
      "text/plain": [
       "             city  trips_in_first_30_days signup_date  avg_rating_of_driver  \\\n",
       "0  King's Landing                       4  2014-01-25                   4.7   \n",
       "1         Astapor                       0  2014-01-29                   5.0   \n",
       "2         Astapor                       3  2014-01-06                   4.3   \n",
       "3  King's Landing                       9  2014-01-10                   4.6   \n",
       "4      Winterfell                      14  2014-01-27                   4.4   \n",
       "\n",
       "   avg_surge last_trip_date    phone  surge_pct  ultimate_black_user  \\\n",
       "0       1.10     2014-06-17   iPhone       15.4                 True   \n",
       "1       1.00     2014-05-05  Android        0.0                False   \n",
       "2       1.00     2014-01-07   iPhone        0.0                False   \n",
       "3       1.14     2014-06-29   iPhone       20.0                 True   \n",
       "4       1.19     2014-03-15  Android       11.8                False   \n",
       "\n",
       "   weekday_pct  avg_dist  avg_rating_by_driver  \n",
       "0         46.2      3.67                   5.0  \n",
       "1         50.0      8.26                   5.0  \n",
       "2        100.0      0.77                   5.0  \n",
       "3         80.0      2.36                   4.9  \n",
       "4         82.4      3.13                   4.9  "
      ]
     },
     "execution_count": 18,
     "metadata": {},
     "output_type": "execute_result"
    }
   ],
   "source": [
    "# Open and read the JSON file\n",
    "with open('ultimate_data_challenge.json', 'r') as file:\n",
    "    data = json.load(file)\n",
    "\n",
    "# Put data into a DataFrame\n",
    "df = pd.DataFrame(data)\n",
    "print(df.info())\n",
    "print(\"\\n\")\n",
    "df.head()"
   ]
  },
  {
   "cell_type": "code",
   "execution_count": 19,
   "id": "0a5fbf2e-ec4d-4486-8e9a-3d1fd2298a68",
   "metadata": {},
   "outputs": [
    {
     "name": "stdout",
     "output_type": "stream",
     "text": [
      "<class 'pandas.core.frame.DataFrame'>\n",
      "RangeIndex: 50000 entries, 0 to 49999\n",
      "Data columns (total 12 columns):\n",
      " #   Column                  Non-Null Count  Dtype         \n",
      "---  ------                  --------------  -----         \n",
      " 0   city                    50000 non-null  object        \n",
      " 1   trips_in_first_30_days  50000 non-null  int64         \n",
      " 2   signup_date             50000 non-null  datetime64[ns]\n",
      " 3   avg_rating_of_driver    41878 non-null  float64       \n",
      " 4   avg_surge               50000 non-null  float64       \n",
      " 5   last_trip_date          50000 non-null  datetime64[ns]\n",
      " 6   phone                   49604 non-null  object        \n",
      " 7   surge_pct               50000 non-null  float64       \n",
      " 8   ultimate_black_user     50000 non-null  bool          \n",
      " 9   weekday_pct             50000 non-null  float64       \n",
      " 10  avg_dist                50000 non-null  float64       \n",
      " 11  avg_rating_by_driver    49799 non-null  float64       \n",
      "dtypes: bool(1), datetime64[ns](2), float64(6), int64(1), object(2)\n",
      "memory usage: 4.2+ MB\n"
     ]
    }
   ],
   "source": [
    "# Parse dates for better model building later\n",
    "columns = ['signup_date', 'last_trip_date']\n",
    "\n",
    "df[columns[0]] = pd.to_datetime(df['signup_date'])\n",
    "df[columns[1]] = pd.to_datetime(df['last_trip_date'])\n",
    "df.info()"
   ]
  },
  {
   "cell_type": "code",
   "execution_count": 20,
   "id": "f386b426-e4a7-4f6a-945e-66e0338305e6",
   "metadata": {},
   "outputs": [
    {
     "name": "stdout",
     "output_type": "stream",
     "text": [
      "69.22% of the observed users were retained\n"
     ]
    },
    {
     "data": {
      "image/png": "[encoded data removed]",
      "text/plain": [
       "<Figure size 640x480 with 1 Axes>"
      ]
     },
     "metadata": {},
     "output_type": "display_data"
    }
   ],
   "source": [
    "# Before dropping any missing values, looking at question of interest\n",
    "print(f\"{(df['trips_in_first_30_days'] > 0).sum() / df.shape[0]:.2%} of the observed users were retained\")\n",
    "\n",
    "# Creating graph to visualize the distribution for tripss_in_first_30_days\n",
    "import matplotlib.pyplot as plt\n",
    "\n",
    "positive = [*range(30)]\n",
    "negative = [x*-1 for x in range(10)]\n",
    "index = sorted(set(negative+positive))\n",
    "df['trips_in_first_30_days'].plot.kde(ind=index)\n",
    "plt.xlabel('# of trips')\n",
    "plt.title('Distribution for # of trips in first 30 days');"
   ]
  },
  {
   "cell_type": "markdown",
   "id": "7fa3d7f3-b267-465a-8b54-bb5bf95df0d5",
   "metadata": {},
   "source": [
    "### Question 2"
   ]
  },
  {
   "cell_type": "markdown",
   "id": "9bc82744-c398-470d-891b-1db2fe63c65c",
   "metadata": {},
   "source": [
    "##### Missing Values"
   ]
  },
  {
   "cell_type": "code",
   "execution_count": 23,
   "id": "3ee64c99-41cd-4293-aa4b-7ab7fde8fabb",
   "metadata": {},
   "outputs": [
    {
     "name": "stdout",
     "output_type": "stream",
     "text": [
      "avg_rating_of_driver\n",
      "5.0    20771\n",
      "NaN     8122\n",
      "4.0     4193\n",
      "4.5     2498\n",
      "4.8     2430\n",
      "4.7     1945\n",
      "4.9     1771\n",
      "4.3     1487\n",
      "4.6     1143\n",
      "3.0     1003\n",
      "4.4      829\n",
      "4.2      601\n",
      "3.5      488\n",
      "3.8      428\n",
      "4.1      398\n",
      "3.7      364\n",
      "1.0      256\n",
      "3.9      255\n",
      "2.0      209\n",
      "3.3      201\n",
      "3.6      172\n",
      "3.4      108\n",
      "2.5       94\n",
      "3.2       53\n",
      "2.7       47\n",
      "3.1       39\n",
      "2.8       28\n",
      "2.3       22\n",
      "2.9       13\n",
      "2.6       12\n",
      "2.1        6\n",
      "1.5        4\n",
      "2.4        3\n",
      "1.7        2\n",
      "1.8        2\n",
      "1.9        1\n",
      "1.6        1\n",
      "2.2        1\n",
      "Name: count, dtype: int64\n",
      "\n",
      "\n",
      "phone\n",
      "iPhone     34582\n",
      "Android    15022\n",
      "None         396\n",
      "Name: count, dtype: int64\n",
      "\n",
      "\n",
      "avg_rating_by_driver\n",
      "5.0    28508\n",
      "4.8     4537\n",
      "4.7     3330\n",
      "4.9     3094\n",
      "4.5     2424\n",
      "4.6     2078\n",
      "4.0     1914\n",
      "4.3     1018\n",
      "4.4      860\n",
      "3.0      602\n",
      "4.2      342\n",
      "NaN      201\n",
      "3.5      199\n",
      "3.7      195\n",
      "1.0      181\n",
      "2.0      126\n",
      "4.1      125\n",
      "3.8      111\n",
      "3.3       47\n",
      "3.9       41\n",
      "2.5       31\n",
      "3.6       19\n",
      "3.4        5\n",
      "1.5        4\n",
      "2.8        3\n",
      "3.2        2\n",
      "2.7        2\n",
      "2.3        1\n",
      "Name: count, dtype: int64\n",
      "\n",
      "\n"
     ]
    }
   ],
   "source": [
    "# Looking at columns with missing values\n",
    "columns = ['avg_rating_of_driver', 'phone', 'avg_rating_by_driver']\n",
    "\n",
    "for column in columns:\n",
    "    print(df[column].value_counts(dropna=False))\n",
    "    print(\"\\n\")"
   ]
  },
  {
   "cell_type": "code",
   "execution_count": 24,
   "id": "24af8170-20c3-40b2-8957-0ca989db5d89",
   "metadata": {},
   "outputs": [
    {
     "name": "stdout",
     "output_type": "stream",
     "text": [
      "avg_rating_of_driver missing values(% of total): 16.244\n",
      "phone missing values(% of total): 0.792\n",
      "avg_rating_by_driver missing values(% of total): 0.402\n"
     ]
    }
   ],
   "source": [
    "# For loop to determine which missing values to drop\n",
    "for column in columns:\n",
    "    print(f\"{column} missing values(% of total): {df[column].isna().sum()/df.shape[0]*100}\")"
   ]
  },
  {
   "cell_type": "code",
   "execution_count": 25,
   "id": "3945b021-23cc-4a98-881d-fc8ba554fa94",
   "metadata": {},
   "outputs": [
    {
     "name": "stdout",
     "output_type": "stream",
     "text": [
      "<class 'pandas.core.frame.DataFrame'>\n",
      "RangeIndex: 50000 entries, 0 to 49999\n",
      "Data columns (total 12 columns):\n",
      " #   Column                  Non-Null Count  Dtype         \n",
      "---  ------                  --------------  -----         \n",
      " 0   city                    50000 non-null  object        \n",
      " 1   trips_in_first_30_days  50000 non-null  int64         \n",
      " 2   signup_date             50000 non-null  datetime64[ns]\n",
      " 3   avg_rating_of_driver    50000 non-null  float64       \n",
      " 4   avg_surge               50000 non-null  float64       \n",
      " 5   last_trip_date          50000 non-null  datetime64[ns]\n",
      " 6   phone                   49604 non-null  object        \n",
      " 7   surge_pct               50000 non-null  float64       \n",
      " 8   ultimate_black_user     50000 non-null  bool          \n",
      " 9   weekday_pct             50000 non-null  float64       \n",
      " 10  avg_dist                50000 non-null  float64       \n",
      " 11  avg_rating_by_driver    49799 non-null  float64       \n",
      "dtypes: bool(1), datetime64[ns](2), float64(6), int64(1), object(2)\n",
      "memory usage: 4.2+ MB\n"
     ]
    }
   ],
   "source": [
    "# The first column cannot be dropped\n",
    "# Will fill null values with the mean\n",
    "df[columns[0]] = df[columns[0]].fillna(df[columns[0]].mean())\n",
    "df.info()"
   ]
  },
  {
   "cell_type": "code",
   "execution_count": 26,
   "id": "a6e82303-5832-4c61-afb3-aae2ff6199d8",
   "metadata": {},
   "outputs": [
    {
     "name": "stdout",
     "output_type": "stream",
     "text": [
      "<class 'pandas.core.frame.DataFrame'>\n",
      "RangeIndex: 50000 entries, 0 to 49999\n",
      "Data columns (total 10 columns):\n",
      " #   Column                  Non-Null Count  Dtype         \n",
      "---  ------                  --------------  -----         \n",
      " 0   trips_in_first_30_days  50000 non-null  int64         \n",
      " 1   signup_date             50000 non-null  datetime64[ns]\n",
      " 2   avg_rating_of_driver    50000 non-null  float64       \n",
      " 3   avg_surge               50000 non-null  float64       \n",
      " 4   last_trip_date          50000 non-null  datetime64[ns]\n",
      " 5   surge_pct               50000 non-null  float64       \n",
      " 6   ultimate_black_user     50000 non-null  bool          \n",
      " 7   weekday_pct             50000 non-null  float64       \n",
      " 8   avg_dist                50000 non-null  float64       \n",
      " 9   avg_rating_by_driver    49799 non-null  float64       \n",
      "dtypes: bool(1), datetime64[ns](2), float64(6), int64(1)\n",
      "memory usage: 3.5 MB\n"
     ]
    }
   ],
   "source": [
    "# Missing values in last two columns account for around 1% of the data\n",
    "# Based on values seen through value counts, avg_rating_by_driver could potentially be useful\n",
    "# phone will likely not be useful in a model so this column can be dropped\n",
    "# Will go ahead and drop city as well\n",
    "df = df.drop([columns[1], 'city'], axis=1)\n",
    "df.info()"
   ]
  },
  {
   "cell_type": "code",
   "execution_count": 27,
   "id": "c9d5a960-6e48-46e9-90b0-ac8c23f751d6",
   "metadata": {},
   "outputs": [
    {
     "name": "stdout",
     "output_type": "stream",
     "text": [
      "<class 'pandas.core.frame.DataFrame'>\n",
      "Index: 49799 entries, 0 to 49999\n",
      "Data columns (total 10 columns):\n",
      " #   Column                  Non-Null Count  Dtype         \n",
      "---  ------                  --------------  -----         \n",
      " 0   trips_in_first_30_days  49799 non-null  int64         \n",
      " 1   signup_date             49799 non-null  datetime64[ns]\n",
      " 2   avg_rating_of_driver    49799 non-null  float64       \n",
      " 3   avg_surge               49799 non-null  float64       \n",
      " 4   last_trip_date          49799 non-null  datetime64[ns]\n",
      " 5   surge_pct               49799 non-null  float64       \n",
      " 6   ultimate_black_user     49799 non-null  bool          \n",
      " 7   weekday_pct             49799 non-null  float64       \n",
      " 8   avg_dist                49799 non-null  float64       \n",
      " 9   avg_rating_by_driver    49799 non-null  float64       \n",
      "dtypes: bool(1), datetime64[ns](2), float64(6), int64(1)\n",
      "memory usage: 3.8 MB\n"
     ]
    }
   ],
   "source": [
    "# All records containing missing values from avg_rating_by_driver column will be dropped\n",
    "df = df.dropna(axis=0)\n",
    "df.info()"
   ]
  },
  {
   "cell_type": "markdown",
   "id": "5bb55692-57c4-4de3-a6fa-1d3ca1992b57",
   "metadata": {},
   "source": [
    "##### Feature Engineering"
   ]
  },
  {
   "cell_type": "code",
   "execution_count": 29,
   "id": "11100c8a-90d8-4276-bb9a-87b84466b0b0",
   "metadata": {},
   "outputs": [],
   "source": [
    "# Gathering number of months between signup_date and last_trip_date\n",
    "length_active = df['last_trip_date'].dt.month - df['signup_date'].dt.month\n",
    "\n",
    "# Using mask to create new column to later use as target feature\n",
    "df['sixth_month_active'] = length_active >= 6"
   ]
  },
  {
   "cell_type": "markdown",
   "id": "c9644e15-dee1-497c-baeb-da26c4eafce6",
   "metadata": {},
   "source": [
    "##### Model Building"
   ]
  },
  {
   "cell_type": "code",
   "execution_count": 31,
   "id": "0982d72d-6589-4c2c-bf6c-79ef7b601cd6",
   "metadata": {},
   "outputs": [
    {
     "data": {
      "text/html": [
       "<style type=\"text/css\">\n",
       "#T_b4264_row9_col1 {\n",
       "  background-color: lightgreen;\n",
       "}\n",
       "</style>\n",
       "<table id=\"T_b4264\">\n",
       "  <thead>\n",
       "    <tr>\n",
       "      <th class=\"blank level0\" >&nbsp;</th>\n",
       "      <th id=\"T_b4264_level0_col0\" class=\"col_heading level0 col0\" >Description</th>\n",
       "      <th id=\"T_b4264_level0_col1\" class=\"col_heading level0 col1\" >Value</th>\n",
       "    </tr>\n",
       "  </thead>\n",
       "  <tbody>\n",
       "    <tr>\n",
       "      <th id=\"T_b4264_level0_row0\" class=\"row_heading level0 row0\" >0</th>\n",
       "      <td id=\"T_b4264_row0_col0\" class=\"data row0 col0\" >Session id</td>\n",
       "      <td id=\"T_b4264_row0_col1\" class=\"data row0 col1\" >123</td>\n",
       "    </tr>\n",
       "    <tr>\n",
       "      <th id=\"T_b4264_level0_row1\" class=\"row_heading level0 row1\" >1</th>\n",
       "      <td id=\"T_b4264_row1_col0\" class=\"data row1 col0\" >Target</td>\n",
       "      <td id=\"T_b4264_row1_col1\" class=\"data row1 col1\" >sixth_month_active</td>\n",
       "    </tr>\n",
       "    <tr>\n",
       "      <th id=\"T_b4264_level0_row2\" class=\"row_heading level0 row2\" >2</th>\n",
       "      <td id=\"T_b4264_row2_col0\" class=\"data row2 col0\" >Target type</td>\n",
       "      <td id=\"T_b4264_row2_col1\" class=\"data row2 col1\" >Binary</td>\n",
       "    </tr>\n",
       "    <tr>\n",
       "      <th id=\"T_b4264_level0_row3\" class=\"row_heading level0 row3\" >3</th>\n",
       "      <td id=\"T_b4264_row3_col0\" class=\"data row3 col0\" >Original data shape</td>\n",
       "      <td id=\"T_b4264_row3_col1\" class=\"data row3 col1\" >(49799, 11)</td>\n",
       "    </tr>\n",
       "    <tr>\n",
       "      <th id=\"T_b4264_level0_row4\" class=\"row_heading level0 row4\" >4</th>\n",
       "      <td id=\"T_b4264_row4_col0\" class=\"data row4 col0\" >Transformed data shape</td>\n",
       "      <td id=\"T_b4264_row4_col1\" class=\"data row4 col1\" >(49799, 15)</td>\n",
       "    </tr>\n",
       "    <tr>\n",
       "      <th id=\"T_b4264_level0_row5\" class=\"row_heading level0 row5\" >5</th>\n",
       "      <td id=\"T_b4264_row5_col0\" class=\"data row5 col0\" >Transformed train set shape</td>\n",
       "      <td id=\"T_b4264_row5_col1\" class=\"data row5 col1\" >(34859, 15)</td>\n",
       "    </tr>\n",
       "    <tr>\n",
       "      <th id=\"T_b4264_level0_row6\" class=\"row_heading level0 row6\" >6</th>\n",
       "      <td id=\"T_b4264_row6_col0\" class=\"data row6 col0\" >Transformed test set shape</td>\n",
       "      <td id=\"T_b4264_row6_col1\" class=\"data row6 col1\" >(14940, 15)</td>\n",
       "    </tr>\n",
       "    <tr>\n",
       "      <th id=\"T_b4264_level0_row7\" class=\"row_heading level0 row7\" >7</th>\n",
       "      <td id=\"T_b4264_row7_col0\" class=\"data row7 col0\" >Numeric features</td>\n",
       "      <td id=\"T_b4264_row7_col1\" class=\"data row7 col1\" >7</td>\n",
       "    </tr>\n",
       "    <tr>\n",
       "      <th id=\"T_b4264_level0_row8\" class=\"row_heading level0 row8\" >8</th>\n",
       "      <td id=\"T_b4264_row8_col0\" class=\"data row8 col0\" >Date features</td>\n",
       "      <td id=\"T_b4264_row8_col1\" class=\"data row8 col1\" >2</td>\n",
       "    </tr>\n",
       "    <tr>\n",
       "      <th id=\"T_b4264_level0_row9\" class=\"row_heading level0 row9\" >9</th>\n",
       "      <td id=\"T_b4264_row9_col0\" class=\"data row9 col0\" >Preprocess</td>\n",
       "      <td id=\"T_b4264_row9_col1\" class=\"data row9 col1\" >True</td>\n",
       "    </tr>\n",
       "    <tr>\n",
       "      <th id=\"T_b4264_level0_row10\" class=\"row_heading level0 row10\" >10</th>\n",
       "      <td id=\"T_b4264_row10_col0\" class=\"data row10 col0\" >Imputation type</td>\n",
       "      <td id=\"T_b4264_row10_col1\" class=\"data row10 col1\" >simple</td>\n",
       "    </tr>\n",
       "    <tr>\n",
       "      <th id=\"T_b4264_level0_row11\" class=\"row_heading level0 row11\" >11</th>\n",
       "      <td id=\"T_b4264_row11_col0\" class=\"data row11 col0\" >Numeric imputation</td>\n",
       "      <td id=\"T_b4264_row11_col1\" class=\"data row11 col1\" >mean</td>\n",
       "    </tr>\n",
       "    <tr>\n",
       "      <th id=\"T_b4264_level0_row12\" class=\"row_heading level0 row12\" >12</th>\n",
       "      <td id=\"T_b4264_row12_col0\" class=\"data row12 col0\" >Categorical imputation</td>\n",
       "      <td id=\"T_b4264_row12_col1\" class=\"data row12 col1\" >mode</td>\n",
       "    </tr>\n",
       "    <tr>\n",
       "      <th id=\"T_b4264_level0_row13\" class=\"row_heading level0 row13\" >13</th>\n",
       "      <td id=\"T_b4264_row13_col0\" class=\"data row13 col0\" >Fold Generator</td>\n",
       "      <td id=\"T_b4264_row13_col1\" class=\"data row13 col1\" >StratifiedKFold</td>\n",
       "    </tr>\n",
       "    <tr>\n",
       "      <th id=\"T_b4264_level0_row14\" class=\"row_heading level0 row14\" >14</th>\n",
       "      <td id=\"T_b4264_row14_col0\" class=\"data row14 col0\" >Fold Number</td>\n",
       "      <td id=\"T_b4264_row14_col1\" class=\"data row14 col1\" >10</td>\n",
       "    </tr>\n",
       "    <tr>\n",
       "      <th id=\"T_b4264_level0_row15\" class=\"row_heading level0 row15\" >15</th>\n",
       "      <td id=\"T_b4264_row15_col0\" class=\"data row15 col0\" >CPU Jobs</td>\n",
       "      <td id=\"T_b4264_row15_col1\" class=\"data row15 col1\" >-1</td>\n",
       "    </tr>\n",
       "    <tr>\n",
       "      <th id=\"T_b4264_level0_row16\" class=\"row_heading level0 row16\" >16</th>\n",
       "      <td id=\"T_b4264_row16_col0\" class=\"data row16 col0\" >Use GPU</td>\n",
       "      <td id=\"T_b4264_row16_col1\" class=\"data row16 col1\" >False</td>\n",
       "    </tr>\n",
       "    <tr>\n",
       "      <th id=\"T_b4264_level0_row17\" class=\"row_heading level0 row17\" >17</th>\n",
       "      <td id=\"T_b4264_row17_col0\" class=\"data row17 col0\" >Log Experiment</td>\n",
       "      <td id=\"T_b4264_row17_col1\" class=\"data row17 col1\" >False</td>\n",
       "    </tr>\n",
       "    <tr>\n",
       "      <th id=\"T_b4264_level0_row18\" class=\"row_heading level0 row18\" >18</th>\n",
       "      <td id=\"T_b4264_row18_col0\" class=\"data row18 col0\" >Experiment Name</td>\n",
       "      <td id=\"T_b4264_row18_col1\" class=\"data row18 col1\" >clf-default-name</td>\n",
       "    </tr>\n",
       "    <tr>\n",
       "      <th id=\"T_b4264_level0_row19\" class=\"row_heading level0 row19\" >19</th>\n",
       "      <td id=\"T_b4264_row19_col0\" class=\"data row19 col0\" >USI</td>\n",
       "      <td id=\"T_b4264_row19_col1\" class=\"data row19 col1\" >db21</td>\n",
       "    </tr>\n",
       "  </tbody>\n",
       "</table>\n"
      ],
      "text/plain": [
       "<pandas.io.formats.style.Styler at 0x13012ee6c90>"
      ]
     },
     "metadata": {},
     "output_type": "display_data"
    },
    {
     "data": {
      "text/plain": [
       "<pycaret.classification.oop.ClassificationExperiment at 0x12f915c1d50>"
      ]
     },
     "execution_count": 31,
     "metadata": {},
     "output_type": "execute_result"
    }
   ],
   "source": [
    "# import ClassificationExperiment and init the class\n",
    "from pycaret.classification import ClassificationExperiment\n",
    "exp = ClassificationExperiment()\n",
    "\n",
    "# init setup on exp\n",
    "exp.setup(df, target = 'sixth_month_active', session_id = 123)"
   ]
  },
  {
   "cell_type": "code",
   "execution_count": 32,
   "id": "78627bc3-a4c2-4c20-a72a-3cb4d758e481",
   "metadata": {},
   "outputs": [
    {
     "data": {
      "text/html": [],
      "text/plain": [
       "<IPython.core.display.HTML object>"
      ]
     },
     "metadata": {},
     "output_type": "display_data"
    },
    {
     "data": {
      "text/html": [
       "<style type=\"text/css\">\n",
       "#T_0bb51 th {\n",
       "  text-align: left;\n",
       "}\n",
       "#T_0bb51_row0_col0, #T_0bb51_row1_col0, #T_0bb51_row2_col0, #T_0bb51_row3_col0, #T_0bb51_row4_col0, #T_0bb51_row5_col0, #T_0bb51_row6_col0, #T_0bb51_row7_col0, #T_0bb51_row8_col0, #T_0bb51_row8_col1, #T_0bb51_row8_col3, #T_0bb51_row8_col5, #T_0bb51_row8_col6, #T_0bb51_row8_col7, #T_0bb51_row9_col0, #T_0bb51_row9_col1, #T_0bb51_row9_col3, #T_0bb51_row9_col5, #T_0bb51_row9_col6, #T_0bb51_row9_col7, #T_0bb51_row10_col0, #T_0bb51_row10_col1, #T_0bb51_row10_col2, #T_0bb51_row10_col3, #T_0bb51_row10_col4, #T_0bb51_row10_col5, #T_0bb51_row10_col6, #T_0bb51_row10_col7, #T_0bb51_row11_col0, #T_0bb51_row11_col1, #T_0bb51_row11_col2, #T_0bb51_row11_col3, #T_0bb51_row11_col4, #T_0bb51_row11_col5, #T_0bb51_row11_col6, #T_0bb51_row11_col7, #T_0bb51_row12_col0, #T_0bb51_row12_col1, #T_0bb51_row12_col2, #T_0bb51_row12_col3, #T_0bb51_row12_col4, #T_0bb51_row12_col5, #T_0bb51_row12_col6, #T_0bb51_row12_col7, #T_0bb51_row13_col0, #T_0bb51_row13_col1, #T_0bb51_row13_col2, #T_0bb51_row13_col3, #T_0bb51_row13_col4, #T_0bb51_row13_col5, #T_0bb51_row13_col6, #T_0bb51_row13_col7, #T_0bb51_row14_col0, #T_0bb51_row14_col1, #T_0bb51_row14_col2, #T_0bb51_row14_col3, #T_0bb51_row14_col4, #T_0bb51_row14_col5, #T_0bb51_row14_col6, #T_0bb51_row14_col7 {\n",
       "  text-align: left;\n",
       "}\n",
       "#T_0bb51_row0_col1, #T_0bb51_row0_col2, #T_0bb51_row0_col3, #T_0bb51_row0_col4, #T_0bb51_row0_col5, #T_0bb51_row0_col6, #T_0bb51_row0_col7, #T_0bb51_row1_col1, #T_0bb51_row1_col2, #T_0bb51_row1_col3, #T_0bb51_row1_col4, #T_0bb51_row1_col5, #T_0bb51_row1_col6, #T_0bb51_row1_col7, #T_0bb51_row2_col1, #T_0bb51_row2_col2, #T_0bb51_row2_col3, #T_0bb51_row2_col4, #T_0bb51_row2_col5, #T_0bb51_row2_col6, #T_0bb51_row2_col7, #T_0bb51_row3_col1, #T_0bb51_row3_col2, #T_0bb51_row3_col3, #T_0bb51_row3_col4, #T_0bb51_row3_col5, #T_0bb51_row3_col6, #T_0bb51_row3_col7, #T_0bb51_row4_col1, #T_0bb51_row4_col2, #T_0bb51_row4_col3, #T_0bb51_row4_col4, #T_0bb51_row4_col5, #T_0bb51_row4_col6, #T_0bb51_row4_col7, #T_0bb51_row5_col1, #T_0bb51_row5_col2, #T_0bb51_row5_col3, #T_0bb51_row5_col4, #T_0bb51_row5_col5, #T_0bb51_row5_col6, #T_0bb51_row5_col7, #T_0bb51_row6_col1, #T_0bb51_row6_col2, #T_0bb51_row6_col3, #T_0bb51_row6_col4, #T_0bb51_row6_col5, #T_0bb51_row6_col6, #T_0bb51_row6_col7, #T_0bb51_row7_col1, #T_0bb51_row7_col2, #T_0bb51_row7_col3, #T_0bb51_row7_col4, #T_0bb51_row7_col5, #T_0bb51_row7_col6, #T_0bb51_row7_col7, #T_0bb51_row8_col2, #T_0bb51_row8_col4, #T_0bb51_row9_col2, #T_0bb51_row9_col4 {\n",
       "  text-align: left;\n",
       "  background-color: yellow;\n",
       "}\n",
       "#T_0bb51_row0_col8, #T_0bb51_row2_col8, #T_0bb51_row3_col8, #T_0bb51_row4_col8, #T_0bb51_row5_col8, #T_0bb51_row6_col8, #T_0bb51_row7_col8, #T_0bb51_row9_col8, #T_0bb51_row10_col8, #T_0bb51_row11_col8, #T_0bb51_row14_col8 {\n",
       "  text-align: left;\n",
       "  background-color: lightgrey;\n",
       "}\n",
       "#T_0bb51_row1_col8, #T_0bb51_row8_col8, #T_0bb51_row12_col8, #T_0bb51_row13_col8 {\n",
       "  text-align: left;\n",
       "  background-color: yellow;\n",
       "  background-color: lightgrey;\n",
       "}\n",
       "</style>\n",
       "<table id=\"T_0bb51\">\n",
       "  <thead>\n",
       "    <tr>\n",
       "      <th class=\"blank level0\" >&nbsp;</th>\n",
       "      <th id=\"T_0bb51_level0_col0\" class=\"col_heading level0 col0\" >Model</th>\n",
       "      <th id=\"T_0bb51_level0_col1\" class=\"col_heading level0 col1\" >Accuracy</th>\n",
       "      <th id=\"T_0bb51_level0_col2\" class=\"col_heading level0 col2\" >AUC</th>\n",
       "      <th id=\"T_0bb51_level0_col3\" class=\"col_heading level0 col3\" >Recall</th>\n",
       "      <th id=\"T_0bb51_level0_col4\" class=\"col_heading level0 col4\" >Prec.</th>\n",
       "      <th id=\"T_0bb51_level0_col5\" class=\"col_heading level0 col5\" >F1</th>\n",
       "      <th id=\"T_0bb51_level0_col6\" class=\"col_heading level0 col6\" >Kappa</th>\n",
       "      <th id=\"T_0bb51_level0_col7\" class=\"col_heading level0 col7\" >MCC</th>\n",
       "      <th id=\"T_0bb51_level0_col8\" class=\"col_heading level0 col8\" >TT (Sec)</th>\n",
       "    </tr>\n",
       "  </thead>\n",
       "  <tbody>\n",
       "    <tr>\n",
       "      <th id=\"T_0bb51_level0_row0\" class=\"row_heading level0 row0\" >lr</th>\n",
       "      <td id=\"T_0bb51_row0_col0\" class=\"data row0 col0\" >Logistic Regression</td>\n",
       "      <td id=\"T_0bb51_row0_col1\" class=\"data row0 col1\" >1.0000</td>\n",
       "      <td id=\"T_0bb51_row0_col2\" class=\"data row0 col2\" >1.0000</td>\n",
       "      <td id=\"T_0bb51_row0_col3\" class=\"data row0 col3\" >1.0000</td>\n",
       "      <td id=\"T_0bb51_row0_col4\" class=\"data row0 col4\" >1.0000</td>\n",
       "      <td id=\"T_0bb51_row0_col5\" class=\"data row0 col5\" >1.0000</td>\n",
       "      <td id=\"T_0bb51_row0_col6\" class=\"data row0 col6\" >1.0000</td>\n",
       "      <td id=\"T_0bb51_row0_col7\" class=\"data row0 col7\" >1.0000</td>\n",
       "      <td id=\"T_0bb51_row0_col8\" class=\"data row0 col8\" >0.8210</td>\n",
       "    </tr>\n",
       "    <tr>\n",
       "      <th id=\"T_0bb51_level0_row1\" class=\"row_heading level0 row1\" >dt</th>\n",
       "      <td id=\"T_0bb51_row1_col0\" class=\"data row1 col0\" >Decision Tree Classifier</td>\n",
       "      <td id=\"T_0bb51_row1_col1\" class=\"data row1 col1\" >1.0000</td>\n",
       "      <td id=\"T_0bb51_row1_col2\" class=\"data row1 col2\" >1.0000</td>\n",
       "      <td id=\"T_0bb51_row1_col3\" class=\"data row1 col3\" >1.0000</td>\n",
       "      <td id=\"T_0bb51_row1_col4\" class=\"data row1 col4\" >1.0000</td>\n",
       "      <td id=\"T_0bb51_row1_col5\" class=\"data row1 col5\" >1.0000</td>\n",
       "      <td id=\"T_0bb51_row1_col6\" class=\"data row1 col6\" >1.0000</td>\n",
       "      <td id=\"T_0bb51_row1_col7\" class=\"data row1 col7\" >1.0000</td>\n",
       "      <td id=\"T_0bb51_row1_col8\" class=\"data row1 col8\" >0.0230</td>\n",
       "    </tr>\n",
       "    <tr>\n",
       "      <th id=\"T_0bb51_level0_row2\" class=\"row_heading level0 row2\" >rf</th>\n",
       "      <td id=\"T_0bb51_row2_col0\" class=\"data row2 col0\" >Random Forest Classifier</td>\n",
       "      <td id=\"T_0bb51_row2_col1\" class=\"data row2 col1\" >1.0000</td>\n",
       "      <td id=\"T_0bb51_row2_col2\" class=\"data row2 col2\" >1.0000</td>\n",
       "      <td id=\"T_0bb51_row2_col3\" class=\"data row2 col3\" >1.0000</td>\n",
       "      <td id=\"T_0bb51_row2_col4\" class=\"data row2 col4\" >1.0000</td>\n",
       "      <td id=\"T_0bb51_row2_col5\" class=\"data row2 col5\" >1.0000</td>\n",
       "      <td id=\"T_0bb51_row2_col6\" class=\"data row2 col6\" >1.0000</td>\n",
       "      <td id=\"T_0bb51_row2_col7\" class=\"data row2 col7\" >1.0000</td>\n",
       "      <td id=\"T_0bb51_row2_col8\" class=\"data row2 col8\" >0.1330</td>\n",
       "    </tr>\n",
       "    <tr>\n",
       "      <th id=\"T_0bb51_level0_row3\" class=\"row_heading level0 row3\" >ada</th>\n",
       "      <td id=\"T_0bb51_row3_col0\" class=\"data row3 col0\" >Ada Boost Classifier</td>\n",
       "      <td id=\"T_0bb51_row3_col1\" class=\"data row3 col1\" >1.0000</td>\n",
       "      <td id=\"T_0bb51_row3_col2\" class=\"data row3 col2\" >1.0000</td>\n",
       "      <td id=\"T_0bb51_row3_col3\" class=\"data row3 col3\" >1.0000</td>\n",
       "      <td id=\"T_0bb51_row3_col4\" class=\"data row3 col4\" >1.0000</td>\n",
       "      <td id=\"T_0bb51_row3_col5\" class=\"data row3 col5\" >1.0000</td>\n",
       "      <td id=\"T_0bb51_row3_col6\" class=\"data row3 col6\" >1.0000</td>\n",
       "      <td id=\"T_0bb51_row3_col7\" class=\"data row3 col7\" >1.0000</td>\n",
       "      <td id=\"T_0bb51_row3_col8\" class=\"data row3 col8\" >0.0250</td>\n",
       "    </tr>\n",
       "    <tr>\n",
       "      <th id=\"T_0bb51_level0_row4\" class=\"row_heading level0 row4\" >gbc</th>\n",
       "      <td id=\"T_0bb51_row4_col0\" class=\"data row4 col0\" >Gradient Boosting Classifier</td>\n",
       "      <td id=\"T_0bb51_row4_col1\" class=\"data row4 col1\" >1.0000</td>\n",
       "      <td id=\"T_0bb51_row4_col2\" class=\"data row4 col2\" >1.0000</td>\n",
       "      <td id=\"T_0bb51_row4_col3\" class=\"data row4 col3\" >1.0000</td>\n",
       "      <td id=\"T_0bb51_row4_col4\" class=\"data row4 col4\" >1.0000</td>\n",
       "      <td id=\"T_0bb51_row4_col5\" class=\"data row4 col5\" >1.0000</td>\n",
       "      <td id=\"T_0bb51_row4_col6\" class=\"data row4 col6\" >1.0000</td>\n",
       "      <td id=\"T_0bb51_row4_col7\" class=\"data row4 col7\" >1.0000</td>\n",
       "      <td id=\"T_0bb51_row4_col8\" class=\"data row4 col8\" >0.1890</td>\n",
       "    </tr>\n",
       "    <tr>\n",
       "      <th id=\"T_0bb51_level0_row5\" class=\"row_heading level0 row5\" >et</th>\n",
       "      <td id=\"T_0bb51_row5_col0\" class=\"data row5 col0\" >Extra Trees Classifier</td>\n",
       "      <td id=\"T_0bb51_row5_col1\" class=\"data row5 col1\" >1.0000</td>\n",
       "      <td id=\"T_0bb51_row5_col2\" class=\"data row5 col2\" >1.0000</td>\n",
       "      <td id=\"T_0bb51_row5_col3\" class=\"data row5 col3\" >1.0000</td>\n",
       "      <td id=\"T_0bb51_row5_col4\" class=\"data row5 col4\" >1.0000</td>\n",
       "      <td id=\"T_0bb51_row5_col5\" class=\"data row5 col5\" >1.0000</td>\n",
       "      <td id=\"T_0bb51_row5_col6\" class=\"data row5 col6\" >1.0000</td>\n",
       "      <td id=\"T_0bb51_row5_col7\" class=\"data row5 col7\" >1.0000</td>\n",
       "      <td id=\"T_0bb51_row5_col8\" class=\"data row5 col8\" >0.1070</td>\n",
       "    </tr>\n",
       "    <tr>\n",
       "      <th id=\"T_0bb51_level0_row6\" class=\"row_heading level0 row6\" >lightgbm</th>\n",
       "      <td id=\"T_0bb51_row6_col0\" class=\"data row6 col0\" >Light Gradient Boosting Machine</td>\n",
       "      <td id=\"T_0bb51_row6_col1\" class=\"data row6 col1\" >1.0000</td>\n",
       "      <td id=\"T_0bb51_row6_col2\" class=\"data row6 col2\" >1.0000</td>\n",
       "      <td id=\"T_0bb51_row6_col3\" class=\"data row6 col3\" >1.0000</td>\n",
       "      <td id=\"T_0bb51_row6_col4\" class=\"data row6 col4\" >1.0000</td>\n",
       "      <td id=\"T_0bb51_row6_col5\" class=\"data row6 col5\" >1.0000</td>\n",
       "      <td id=\"T_0bb51_row6_col6\" class=\"data row6 col6\" >1.0000</td>\n",
       "      <td id=\"T_0bb51_row6_col7\" class=\"data row6 col7\" >1.0000</td>\n",
       "      <td id=\"T_0bb51_row6_col8\" class=\"data row6 col8\" >0.0820</td>\n",
       "    </tr>\n",
       "    <tr>\n",
       "      <th id=\"T_0bb51_level0_row7\" class=\"row_heading level0 row7\" >catboost</th>\n",
       "      <td id=\"T_0bb51_row7_col0\" class=\"data row7 col0\" >CatBoost Classifier</td>\n",
       "      <td id=\"T_0bb51_row7_col1\" class=\"data row7 col1\" >1.0000</td>\n",
       "      <td id=\"T_0bb51_row7_col2\" class=\"data row7 col2\" >1.0000</td>\n",
       "      <td id=\"T_0bb51_row7_col3\" class=\"data row7 col3\" >1.0000</td>\n",
       "      <td id=\"T_0bb51_row7_col4\" class=\"data row7 col4\" >1.0000</td>\n",
       "      <td id=\"T_0bb51_row7_col5\" class=\"data row7 col5\" >1.0000</td>\n",
       "      <td id=\"T_0bb51_row7_col6\" class=\"data row7 col6\" >1.0000</td>\n",
       "      <td id=\"T_0bb51_row7_col7\" class=\"data row7 col7\" >1.0000</td>\n",
       "      <td id=\"T_0bb51_row7_col8\" class=\"data row7 col8\" >3.7010</td>\n",
       "    </tr>\n",
       "    <tr>\n",
       "      <th id=\"T_0bb51_level0_row8\" class=\"row_heading level0 row8\" >nb</th>\n",
       "      <td id=\"T_0bb51_row8_col0\" class=\"data row8 col0\" >Naive Bayes</td>\n",
       "      <td id=\"T_0bb51_row8_col1\" class=\"data row8 col1\" >0.9999</td>\n",
       "      <td id=\"T_0bb51_row8_col2\" class=\"data row8 col2\" >1.0000</td>\n",
       "      <td id=\"T_0bb51_row8_col3\" class=\"data row8 col3\" >0.9896</td>\n",
       "      <td id=\"T_0bb51_row8_col4\" class=\"data row8 col4\" >1.0000</td>\n",
       "      <td id=\"T_0bb51_row8_col5\" class=\"data row8 col5\" >0.9947</td>\n",
       "      <td id=\"T_0bb51_row8_col6\" class=\"data row8 col6\" >0.9947</td>\n",
       "      <td id=\"T_0bb51_row8_col7\" class=\"data row8 col7\" >0.9947</td>\n",
       "      <td id=\"T_0bb51_row8_col8\" class=\"data row8 col8\" >0.0230</td>\n",
       "    </tr>\n",
       "    <tr>\n",
       "      <th id=\"T_0bb51_level0_row9\" class=\"row_heading level0 row9\" >qda</th>\n",
       "      <td id=\"T_0bb51_row9_col0\" class=\"data row9 col0\" >Quadratic Discriminant Analysis</td>\n",
       "      <td id=\"T_0bb51_row9_col1\" class=\"data row9 col1\" >0.9948</td>\n",
       "      <td id=\"T_0bb51_row9_col2\" class=\"data row9 col2\" >1.0000</td>\n",
       "      <td id=\"T_0bb51_row9_col3\" class=\"data row9 col3\" >0.5322</td>\n",
       "      <td id=\"T_0bb51_row9_col4\" class=\"data row9 col4\" >1.0000</td>\n",
       "      <td id=\"T_0bb51_row9_col5\" class=\"data row9 col5\" >0.6371</td>\n",
       "      <td id=\"T_0bb51_row9_col6\" class=\"data row9 col6\" >0.6354</td>\n",
       "      <td id=\"T_0bb51_row9_col7\" class=\"data row9 col7\" >0.6909</td>\n",
       "      <td id=\"T_0bb51_row9_col8\" class=\"data row9 col8\" >0.0280</td>\n",
       "    </tr>\n",
       "    <tr>\n",
       "      <th id=\"T_0bb51_level0_row10\" class=\"row_heading level0 row10\" >knn</th>\n",
       "      <td id=\"T_0bb51_row10_col0\" class=\"data row10 col0\" >K Neighbors Classifier</td>\n",
       "      <td id=\"T_0bb51_row10_col1\" class=\"data row10 col1\" >0.9910</td>\n",
       "      <td id=\"T_0bb51_row10_col2\" class=\"data row10 col2\" >0.8906</td>\n",
       "      <td id=\"T_0bb51_row10_col3\" class=\"data row10 col3\" >0.3251</td>\n",
       "      <td id=\"T_0bb51_row10_col4\" class=\"data row10 col4\" >0.6821</td>\n",
       "      <td id=\"T_0bb51_row10_col5\" class=\"data row10 col5\" >0.4352</td>\n",
       "      <td id=\"T_0bb51_row10_col6\" class=\"data row10 col6\" >0.4313</td>\n",
       "      <td id=\"T_0bb51_row10_col7\" class=\"data row10 col7\" >0.4640</td>\n",
       "      <td id=\"T_0bb51_row10_col8\" class=\"data row10 col8\" >0.6490</td>\n",
       "    </tr>\n",
       "    <tr>\n",
       "      <th id=\"T_0bb51_level0_row11\" class=\"row_heading level0 row11\" >lda</th>\n",
       "      <td id=\"T_0bb51_row11_col0\" class=\"data row11 col0\" >Linear Discriminant Analysis</td>\n",
       "      <td id=\"T_0bb51_row11_col1\" class=\"data row11 col1\" >0.9901</td>\n",
       "      <td id=\"T_0bb51_row11_col2\" class=\"data row11 col2\" >0.9975</td>\n",
       "      <td id=\"T_0bb51_row11_col3\" class=\"data row11 col3\" >0.1850</td>\n",
       "      <td id=\"T_0bb51_row11_col4\" class=\"data row11 col4\" >0.7033</td>\n",
       "      <td id=\"T_0bb51_row11_col5\" class=\"data row11 col5\" >0.2875</td>\n",
       "      <td id=\"T_0bb51_row11_col6\" class=\"data row11 col6\" >0.2843</td>\n",
       "      <td id=\"T_0bb51_row11_col7\" class=\"data row11 col7\" >0.3523</td>\n",
       "      <td id=\"T_0bb51_row11_col8\" class=\"data row11 col8\" >0.0280</td>\n",
       "    </tr>\n",
       "    <tr>\n",
       "      <th id=\"T_0bb51_level0_row12\" class=\"row_heading level0 row12\" >ridge</th>\n",
       "      <td id=\"T_0bb51_row12_col0\" class=\"data row12 col0\" >Ridge Classifier</td>\n",
       "      <td id=\"T_0bb51_row12_col1\" class=\"data row12 col1\" >0.9890</td>\n",
       "      <td id=\"T_0bb51_row12_col2\" class=\"data row12 col2\" >0.9975</td>\n",
       "      <td id=\"T_0bb51_row12_col3\" class=\"data row12 col3\" >0.0000</td>\n",
       "      <td id=\"T_0bb51_row12_col4\" class=\"data row12 col4\" >0.0000</td>\n",
       "      <td id=\"T_0bb51_row12_col5\" class=\"data row12 col5\" >0.0000</td>\n",
       "      <td id=\"T_0bb51_row12_col6\" class=\"data row12 col6\" >0.0000</td>\n",
       "      <td id=\"T_0bb51_row12_col7\" class=\"data row12 col7\" >0.0000</td>\n",
       "      <td id=\"T_0bb51_row12_col8\" class=\"data row12 col8\" >0.0230</td>\n",
       "    </tr>\n",
       "    <tr>\n",
       "      <th id=\"T_0bb51_level0_row13\" class=\"row_heading level0 row13\" >dummy</th>\n",
       "      <td id=\"T_0bb51_row13_col0\" class=\"data row13 col0\" >Dummy Classifier</td>\n",
       "      <td id=\"T_0bb51_row13_col1\" class=\"data row13 col1\" >0.9890</td>\n",
       "      <td id=\"T_0bb51_row13_col2\" class=\"data row13 col2\" >0.5000</td>\n",
       "      <td id=\"T_0bb51_row13_col3\" class=\"data row13 col3\" >0.0000</td>\n",
       "      <td id=\"T_0bb51_row13_col4\" class=\"data row13 col4\" >0.0000</td>\n",
       "      <td id=\"T_0bb51_row13_col5\" class=\"data row13 col5\" >0.0000</td>\n",
       "      <td id=\"T_0bb51_row13_col6\" class=\"data row13 col6\" >0.0000</td>\n",
       "      <td id=\"T_0bb51_row13_col7\" class=\"data row13 col7\" >0.0000</td>\n",
       "      <td id=\"T_0bb51_row13_col8\" class=\"data row13 col8\" >0.0230</td>\n",
       "    </tr>\n",
       "    <tr>\n",
       "      <th id=\"T_0bb51_level0_row14\" class=\"row_heading level0 row14\" >svm</th>\n",
       "      <td id=\"T_0bb51_row14_col0\" class=\"data row14 col0\" >SVM - Linear Kernel</td>\n",
       "      <td id=\"T_0bb51_row14_col1\" class=\"data row14 col1\" >0.9685</td>\n",
       "      <td id=\"T_0bb51_row14_col2\" class=\"data row14 col2\" >0.9943</td>\n",
       "      <td id=\"T_0bb51_row14_col3\" class=\"data row14 col3\" >0.2000</td>\n",
       "      <td id=\"T_0bb51_row14_col4\" class=\"data row14 col4\" >0.0175</td>\n",
       "      <td id=\"T_0bb51_row14_col5\" class=\"data row14 col5\" >0.0322</td>\n",
       "      <td id=\"T_0bb51_row14_col6\" class=\"data row14 col6\" >0.0288</td>\n",
       "      <td id=\"T_0bb51_row14_col7\" class=\"data row14 col7\" >0.0557</td>\n",
       "      <td id=\"T_0bb51_row14_col8\" class=\"data row14 col8\" >0.1090</td>\n",
       "    </tr>\n",
       "  </tbody>\n",
       "</table>\n"
      ],
      "text/plain": [
       "<pandas.io.formats.style.Styler at 0x13015453d10>"
      ]
     },
     "metadata": {},
     "output_type": "display_data"
    },
    {
     "data": {
      "text/html": [],
      "text/plain": [
       "<IPython.core.display.HTML object>"
      ]
     },
     "metadata": {},
     "output_type": "display_data"
    }
   ],
   "source": [
    "# compare baseline models\n",
    "best = exp.compare_models()"
   ]
  },
  {
   "cell_type": "markdown",
   "id": "e40ce174-2b0d-45a4-a04d-068ef7bea91b",
   "metadata": {},
   "source": [
    "There are multiple models that achieve perfection in all available metrics. Most notably among these is the logistic regression model."
   ]
  },
  {
   "cell_type": "code",
   "execution_count": 34,
   "id": "1b4732cf-e90a-4cae-bba6-bb742a967ea0",
   "metadata": {},
   "outputs": [
    {
     "data": {
      "text/html": [],
      "text/plain": [
       "<IPython.core.display.HTML object>"
      ]
     },
     "metadata": {},
     "output_type": "display_data"
    },
    {
     "data": {
      "image/png": "[encoded data removed]",
      "text/plain": [
       "<Figure size 800x550 with 1 Axes>"
      ]
     },
     "metadata": {},
     "output_type": "display_data"
    }
   ],
   "source": [
    "# plotting confusion matrix to confirm results\n",
    "exp.plot_model(best, plot = 'confusion_matrix')"
   ]
  },
  {
   "cell_type": "code",
   "execution_count": 35,
   "id": "7b68b25c-d7ea-424f-91b9-e4f51111fd07",
   "metadata": {},
   "outputs": [
    {
     "name": "stdout",
     "output_type": "stream",
     "text": [
      "Transformation Pipeline and Model Successfully Saved\n"
     ]
    },
    {
     "data": {
      "text/plain": [
       "(Pipeline(memory=Memory(location=None),\n",
       "          steps=[('date_feature_extractor',\n",
       "                  TransformerWrapper(exclude=None,\n",
       "                                     include=['signup_date', 'last_trip_date'],\n",
       "                                     transformer=ExtractDateTimeFeatures(features=['day',\n",
       "                                                                                   'month',\n",
       "                                                                                   'year']))),\n",
       "                 ('numerical_imputer',\n",
       "                  TransformerWrapper(exclude=None,\n",
       "                                     include=['trips_in_first_30_days',\n",
       "                                              'avg_rating_of_driver',\n",
       "                                              'avg_surge', 'surge_pct',\n",
       "                                              '...\n",
       "                                                               fill_value=None,\n",
       "                                                               keep_empty_features=False,\n",
       "                                                               missing_values=nan,\n",
       "                                                               strategy='most_frequent'))),\n",
       "                 ('trained_model',\n",
       "                  LogisticRegression(C=1.0, class_weight=None, dual=False,\n",
       "                                     fit_intercept=True, intercept_scaling=1,\n",
       "                                     l1_ratio=None, max_iter=1000,\n",
       "                                     multi_class='auto', n_jobs=None,\n",
       "                                     penalty='l2', random_state=123,\n",
       "                                     solver='lbfgs', tol=0.0001, verbose=0,\n",
       "                                     warm_start=False))],\n",
       "          verbose=False),\n",
       " 'Ultimate_model.pkl')"
      ]
     },
     "execution_count": 35,
     "metadata": {},
     "output_type": "execute_result"
    }
   ],
   "source": [
    "# saving pipeline for easier implementation\n",
    "exp.save_model(best, 'Ultimate_model')"
   ]
  },
  {
   "cell_type": "markdown",
   "id": "b667bfdd-8cf1-462c-ab1e-c2ccb0fe12e1",
   "metadata": {},
   "source": [
    "My approach involved:\n",
    ">adjusting data types.\n",
    ">\n",
    ">answering important questions before data alterations.\n",
    ">\n",
    ">handling missing values.\n",
    ">\n",
    ">dropping irrelevant columns.\n",
    ">\n",
    ">feature engineering.\n",
    ">\n",
    ">leveraging a model building library to examine multiple models quickly."
   ]
  },
  {
   "cell_type": "markdown",
   "id": "a03aedf9-ab42-4427-a8da-8b933fa716ab",
   "metadata": {},
   "source": [
    "These are common steps of the data science pipeline and fit the needs of this particular dataset. This makes me confident in my approach. The evaluation metrics further validate my work."
   ]
  },
  {
   "cell_type": "markdown",
   "id": "99660087-bf2d-4859-8b47-057313c660ab",
   "metadata": {},
   "source": [
    "### Question 3"
   ]
  },
  {
   "cell_type": "code",
   "execution_count": 39,
   "id": "c0bf8225-45d3-4cc4-8d30-4908b3da7497",
   "metadata": {},
   "outputs": [
    {
     "name": "stdout",
     "output_type": "stream",
     "text": [
      "Long term rider retention rate roughly 1.10%\n"
     ]
    }
   ],
   "source": [
    "print(f\"Long term rider retention rate roughly {df['sixth_month_active'].sum() / df.shape[0]:.2%}\")"
   ]
  },
  {
   "cell_type": "code",
   "execution_count": 40,
   "id": "b77f6255-0202-49c0-942c-8d860ce64a0f",
   "metadata": {},
   "outputs": [
    {
     "data": {
      "text/html": [],
      "text/plain": [
       "<IPython.core.display.HTML object>"
      ]
     },
     "metadata": {},
     "output_type": "display_data"
    },
    {
     "data": {
      "image/png": "[encoded data removed]",
      "text/plain": [
       "<Figure size 800x500 with 1 Axes>"
      ]
     },
     "metadata": {},
     "output_type": "display_data"
    }
   ],
   "source": [
    "exp.plot_model(best, plot = 'feature')"
   ]
  },
  {
   "cell_type": "markdown",
   "id": "174b3d7b-072b-41ce-bc0f-6c0546c5c937",
   "metadata": {},
   "source": [
    "Ultimate can leverage this insight to drive business decisions. The most important features are those involving how active a user is. Ultimate needs to find ways to keep their users active. Looking at the third feature, it seems this is exactly what they are trying to do (assuming ultimate_black_user indicates users with a premium subscription). Finding ways to improve the premium experience to increase the amount of subscriptions, along with careful monitoring of the highly developed model, will surely lead to a better long term rider retention rate."
   ]
  }
 ],
 "metadata": {
  "kernelspec": {
   "display_name": "Python [conda env:base] *",
   "language": "python",
   "name": "conda-base-py"
  },
  "language_info": {
   "codemirror_mode": {
    "name": "ipython",
    "version": 3
   },
   "file_extension": ".py",
   "mimetype": "text/x-python",
   "name": "python",
   "nbconvert_exporter": "python",
   "pygments_lexer": "ipython3",
   "version": "3.11.7"
  }
 },
 "nbformat": 4,
 "nbformat_minor": 5
}
